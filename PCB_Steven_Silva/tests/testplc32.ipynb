{
 "cells": [
  {
   "cell_type": "markdown",
   "metadata": {},
   "source": [
    "# PLC testing\n",
    "\n",
    "Here tests for the PLC32 made by myself Steven Silva, will be found, in order to run this, you should have made your own PCB based on the following: [Steven Silva PLC32](https://github.com/FunPythonEC/PLC32/tree/master/PCB_Steven_Silva)\n",
    "\n",
    "It will be tested by blocks, first the PLC inputs.\n",
    "\n",
    "## PLC32 outputs\n",
    "In order to test the output, a signal to the defined output pin of the ESP32 must me turn on. For that we must first connect to the board and then define the pin to be turned on as well as the `Pin` object:\n"
   ]
  },
  {
   "cell_type": "code",
   "execution_count": 1,
   "metadata": {},
   "outputs": [
    {
     "name": "stdout",
     "output_type": "stream",
     "text": [
      "\u001b[34mConnecting to --port=/dev/ttyUSB0 --baud=115200 \u001b[0m\n",
      "\u001b[34mReady.\n",
      "\u001b[0m"
     ]
    }
   ],
   "source": [
    "%serialconnect --port /dev/ttyUSB0 --baudrate 115200"
   ]
  },
  {
   "cell_type": "code",
   "execution_count": 2,
   "metadata": {},
   "outputs": [
    {
     "name": "stdout",
     "output_type": "stream",
     "text": [
      "23\n"
     ]
    }
   ],
   "source": [
    "# now that we are connected\n",
    "# a the number of the pin must be defined\n",
    "# here it is defined in a variable as an int\n",
    "outpin=23\n",
    "print(outpin)"
   ]
  },
  {
   "cell_type": "code",
   "execution_count": 3,
   "metadata": {},
   "outputs": [],
   "source": [
    "from machine import Pin"
   ]
  },
  {
   "cell_type": "code",
   "execution_count": 4,
   "metadata": {},
   "outputs": [],
   "source": [
    "output=Pin(outpin,Pin.OUT)"
   ]
  },
  {
   "cell_type": "code",
   "execution_count": 5,
   "metadata": {},
   "outputs": [],
   "source": [
    "# when output pin is off\n",
    "# the output in the bornier should\n",
    "# be around the source voltage\n",
    "output.off()"
   ]
  },
  {
   "cell_type": "code",
   "execution_count": 6,
   "metadata": {},
   "outputs": [],
   "source": [
    "# when it is on\n",
    "# the output should be\n",
    "# around 0V\n",
    "output.on()"
   ]
  },
  {
   "cell_type": "markdown",
   "metadata": {},
   "source": [
    "## PLC32 inputs testing\n",
    "\n",
    "In order to test this, we should first connect to the board of course and define the pins that are going to be used, which should be the input."
   ]
  },
  {
   "cell_type": "code",
   "execution_count": 1,
   "metadata": {},
   "outputs": [
    {
     "name": "stdout",
     "output_type": "stream",
     "text": [
      "\u001b[31mNo serial connected\n",
      "\u001b[0m  %serialconnect to connect\n",
      "  %esptool to flash the device\n",
      "  %lsmagic to list commands"
     ]
    }
   ],
   "source": [
    "%reboot"
   ]
  },
  {
   "cell_type": "code",
   "execution_count": 1,
   "metadata": {},
   "outputs": [
    {
     "name": "stdout",
     "output_type": "stream",
     "text": [
      "\u001b[34mConnecting to --port=/dev/ttyUSB0 --baud=115200 \u001b[0m\n",
      "\u001b[34mReady.\n",
      "\u001b[0m"
     ]
    }
   ],
   "source": [
    "%serialconnect --port /dev/ttyUSB0 --baudrate 115200"
   ]
  },
  {
   "cell_type": "code",
   "execution_count": 2,
   "metadata": {},
   "outputs": [],
   "source": [
    "# now that we are connected we can start by \n",
    "# defining the pin number that will be used\n",
    "# in my case it is gpio27\n",
    "entradapin=27"
   ]
  },
  {
   "cell_type": "code",
   "execution_count": 3,
   "metadata": {},
   "outputs": [
    {
     "name": "stdout",
     "output_type": "stream",
     "text": [
      "27\n"
     ]
    }
   ],
   "source": [
    "print(entradapin)"
   ]
  },
  {
   "cell_type": "code",
   "execution_count": 4,
   "metadata": {},
   "outputs": [],
   "source": [
    "# we can see the esp32 is responding as intended\n",
    "# now machine is imported and the pin object is defined\n",
    "# Pin.IN is used since it is an input\n",
    "from machine import Pin\n",
    "entrada=Pin(entradapin,Pin.IN)"
   ]
  },
  {
   "cell_type": "code",
   "execution_count": 5,
   "metadata": {},
   "outputs": [
    {
     "name": "stdout",
     "output_type": "stream",
     "text": [
      "object Pin(27) is of type Pin\n",
      "  init -- <function>\n",
      "  value -- <function>\n",
      "  off -- <function>\n",
      "  on -- <function>\n",
      "  irq -- <function>\n",
      "  IN -- 1\n",
      "  OUT -- 3\n",
      "  OPEN_DRAIN -- 7\n",
      "  PULL_UP -- 2\n",
      "  PULL_DOWN -- 1\n",
      "  PULL_HOLD -- 4\n",
      "  IRQ_RISING -- 1\n",
      "  IRQ_FALLING -- 2\n",
      "  WAKE_LOW -- 4\n",
      "  WAKE_HIGH -- 5\n"
     ]
    }
   ],
   "source": [
    "#here we can se every method we can use with this object\n",
    "help(entrada)"
   ]
  },
  {
   "cell_type": "code",
   "execution_count": 6,
   "metadata": {},
   "outputs": [
    {
     "name": "stdout",
     "output_type": "stream",
     "text": [
      "1\n"
     ]
    }
   ],
   "source": [
    "# what we want to get is the reading from the input, for that we can use value\n",
    "# now that nothing is connected to the bornier linked with this pin we should get a 1\n",
    "print(entrada.value())"
   ]
  },
  {
   "cell_type": "code",
   "execution_count": null,
   "metadata": {},
   "outputs": [
    {
     "name": "stdout",
     "output_type": "stream",
     "text": [
      ".\u001b[34m\n",
      "\n",
      "*** Sending Ctrl-C\n",
      "\n",
      "\u001b[0m"
     ]
    }
   ],
   "source": [
    "print(entrada.value())"
   ]
  },
  {
   "cell_type": "code",
   "execution_count": null,
   "metadata": {},
   "outputs": [],
   "source": []
  }
 ],
 "metadata": {
  "kernelspec": {
   "display_name": "MicroPython - USB",
   "language": "micropython",
   "name": "micropython"
  },
  "language_info": {
   "codemirror_mode": "python",
   "file_extension": ".py",
   "mimetype": "text/python",
   "name": "micropython"
  }
 },
 "nbformat": 4,
 "nbformat_minor": 4
}
